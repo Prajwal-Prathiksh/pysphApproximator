{
 "cells": [
  {
   "cell_type": "code",
   "execution_count": 2,
   "metadata": {},
   "outputs": [],
   "source": [
    "import numpy as np\n",
    "import matplotlib.pyplot as plt\n",
    "from pysph.base.utils import get_particle_array\n",
    "from pysph.tools.interpolator import (\n",
    "    Interpolator, get_bounding_box\n",
    ")\n",
    "from pysph.base import nnps\n",
    "from cyarray.api import UIntArray"
   ]
  },
  {
   "cell_type": "code",
   "execution_count": 104,
   "metadata": {},
   "outputs": [],
   "source": [
    "def make_test_data(dx=0.2, L=1, hdx=1.0, dim=2):\n",
    "    _x = np.arange(dx / 2, L, dx)\n",
    "    if dim == 1:\n",
    "        x = _x.copy()\n",
    "        y = np.zeros_like(x)\n",
    "        z = np.zeros_like(x)\n",
    "    elif dim == 2:\n",
    "        x, y = np.meshgrid(_x, _x)\n",
    "        z = np.zeros_like(x)\n",
    "    elif dim == 3:\n",
    "        x, y, z = np.meshgrid(_x, _x, _x)\n",
    "        \n",
    "    x, y, z = [t.ravel() for t in (x, y, z)]\n",
    "\n",
    "    h = np.ones_like(x)*dx*hdx\n",
    "    rho = np.ones_like(x)\n",
    "    m = rho*dx**(dim)\n",
    "\n",
    "    fluid = get_particle_array(\n",
    "        name=\"fluid\", x=x, y=y, z=z, h=h, m=m, rho=rho, exact=0\n",
    "    )\n",
    "    fluid.add_property(\n",
    "        **{'name': 'stride_test', 'stride': 3}\n",
    "    )\n",
    "    return fluid"
   ]
  },
  {
   "cell_type": "code",
   "execution_count": 105,
   "metadata": {},
   "outputs": [],
   "source": [
    "def plot_pa(particle_arrays, dim, BB=None):\n",
    "    if dim == 3:\n",
    "        raise NotImplementedError(\"3D plotting not implemented yet.\")\n",
    "    tight_bounds = None\n",
    "    for i, pa in enumerate(particle_arrays):\n",
    "        label = pa.name\n",
    "        if 'fluid' in pa.name:\n",
    "            c = 'blue'\n",
    "            tight_bounds = get_bounding_box([pa], tight=True)\n",
    "            dy = 0.0\n",
    "        if '1' in pa.name:\n",
    "            c = 'red'\n",
    "            dy = 0.1\n",
    "        if '2' in pa.name:\n",
    "            c = 'green'\n",
    "            tight_bounds = get_bounding_box([pa], tight=True)\n",
    "            dy = -0.1\n",
    "        if dim != 1:\n",
    "            dy *= 0\n",
    "        plt.scatter(pa.x, pa.y, c=c, s=10, label=label)\n",
    "\n",
    "    if tight_bounds is not None and dim == 2:\n",
    "        xmin, xmax, ymin, ymax, zmin, zmax = tight_bounds\n",
    "        plt.vlines([xmin, xmax], ymin, ymax, color='k', linestyle='--')\n",
    "        plt.hlines([ymin, ymax], xmin, xmax, color='k', linestyle='--')\n",
    "    if BB is not None:\n",
    "        # print(BB)\n",
    "        xmin, xmax, ymin, ymax, zmin, zmax = BB\n",
    "        plt.xlim(xmin, xmax)\n",
    "        _tmp = np.arange(np.round(xmin, 1), np.round(xmax, 1), 0.2)\n",
    "        plt.xticks(_tmp)\n",
    "        if dim == 2:\n",
    "            plt.ylim(ymin, ymax)\n",
    "            _tmp = np.arange(np.round(ymin, 1), np.round(ymax, 1), 0.2)\n",
    "            plt.yticks(_tmp)\n",
    "\n",
    "    # plt.axis(\"equal\")\n",
    "    plt.legend()\n",
    "\n",
    "def get_max_h_in_arrays(particle_arrays):\n",
    "    hmax = -1.0\n",
    "    for array in particle_arrays:\n",
    "        hmax = max(array.h.max(), hmax)\n",
    "    return hmax"
   ]
  },
  {
   "cell_type": "code",
   "execution_count": 106,
   "metadata": {},
   "outputs": [],
   "source": [
    "def plot_periodic_pas(pa, gpa1, gpa2):\n",
    "    plt.scatter(pa.x, pa.y, label='fluid', facecolors='none', edgecolors='blue')\n",
    "    plt.scatter(\n",
    "        gpa1.x, gpa1.y, c=gpa1.g2id, marker='o', label='ghost1 (c=g2id)'\n",
    "    )\n",
    "    plt.scatter(\n",
    "        gpa2.x, gpa2.y, c=gpa2.gid, marker='v', label='ghost2 (c=gid)'\n",
    "    )\n",
    "    plt.scatter\n",
    "    plt.colorbar()\n",
    "    plt.legend()"
   ]
  },
  {
   "cell_type": "code",
   "execution_count": 107,
   "metadata": {},
   "outputs": [],
   "source": [
    "def create_ghosts(particle_arrays, dim, dx, num_layers=2):\n",
    "    concat = np.concatenate\n",
    "    if num_layers <= 0:\n",
    "        raise ValueError(\"num_layers must be > 0\")\n",
    "    Ndx = num_layers*dx\n",
    "    hmax = get_max_h_in_arrays(particle_arrays)\n",
    "    \n",
    "    tight_bounds = get_bounding_box(particle_arrays, tight=True)\n",
    "    xmin, xmax, ymin, ymax, zmin, zmax = tight_bounds\n",
    "    Lx, Ly, Lz = xmax-xmin, ymax-ymin, zmax-zmin\n",
    "\n",
    "\n",
    "    if dim != 1:\n",
    "        raise NotImplementedError(\"Only 1D implemented so far.\")\n",
    "\n",
    "    # Create Ghost-2\n",
    "    _xmin = xmin + dx/2\n",
    "    _xmax = xmax - dx/2\n",
    "    if dim == 1:\n",
    "        x1 = np.arange(_xmin, _xmin+Ndx, dx)\n",
    "        x2 = np.arange(_xmax, _xmax-Ndx, -dx)\n",
    "        if len(x1) > num_layers: x1 = x1[:-1]\n",
    "        if len(x2) > num_layers: x2 = x2[:-1]\n",
    "        \n",
    "        x = concat([x1, x2])\n",
    "        y, z = np.zeros_like(x), np.zeros_like(x)\n",
    "        \n",
    "        xr, yr, zr = x.ravel(), y.ravel(), z.ravel()\n",
    "        gid = np.arange(len(xr))\n",
    "    \n",
    "\n",
    "    ghost2_pa = get_particle_array(\n",
    "        name=\"ghost2\", x=xr, y=yr, z=zr, h=hmax, gid=gid\n",
    "    )\n",
    "    ghost2_pa.ensure_properties(particle_arrays[0])\n",
    "\n",
    "    # Create Ghost-1\n",
    "    _Lx = Lx + dx\n",
    "    if dim == 1:\n",
    "        # Get east particles\n",
    "        mask = (xr >= _xmin) & (xr <= _xmin+Ndx)\n",
    "        x = xr[mask] + _Lx\n",
    "        g2id = gid[mask]\n",
    "\n",
    "        # Get west particles\n",
    "        mask = (xr >= _xmax-Ndx) & (xr <= _xmax)\n",
    "        x = concat([x, xr[mask] - _Lx])\n",
    "        g2id = concat([g2id, gid[mask]])\n",
    "        y, z = np.zeros_like(x), np.zeros_like(x)\n",
    "\n",
    "        xr, yr, zr = x.ravel(), y.ravel(), z.ravel()\n",
    "        gid = np.arange(len(xr))\n",
    "\n",
    "    ghost1_pa = get_particle_array(\n",
    "        name=\"ghost1\", x=xr, y=yr, z=zr, h=hmax, gid=gid,\n",
    "    )\n",
    "    ghost1_pa.add_property(\n",
    "        **{'name': 'g2id', 'data': g2id, 'type': 'unsigned int'}\n",
    "    )\n",
    "    ghost1_pa.ensure_properties(particle_arrays[0])\n",
    "\n",
    "    return ghost1_pa, ghost2_pa"
   ]
  },
  {
   "cell_type": "code",
   "execution_count": 115,
   "metadata": {},
   "outputs": [
    {
     "data": {
      "image/png": "[encoded data removed]",
      "text/plain": [
       "<Figure size 640x480 with 2 Axes>"
      ]
     },
     "metadata": {},
     "output_type": "display_data"
    }
   ],
   "source": [
    "dim = 1\n",
    "dx = 0.04\n",
    "hdx = 1.2\n",
    "num_layers = 3\n",
    "pa = make_test_data(dx=dx, hdx=hdx, dim=dim)\n",
    "g1pa, g2pa = create_ghosts([pa], dim=dim, dx=dx, num_layers=num_layers)\n",
    "plot_periodic_pas(pa, g1pa, g2pa)"
   ]
  },
  {
   "cell_type": "code",
   "execution_count": 116,
   "metadata": {},
   "outputs": [
    {
     "data": {
      "text/plain": [
       "{'tag': array([0, 0, 0, 0, 0, 0], dtype=int32),\n",
       " 'pid': array([0, 0, 0, 0, 0, 0], dtype=int32),\n",
       " 'gid': array([0, 1, 2, 3, 4, 5], dtype=uint32),\n",
       " 'x': array([ 1.04,  1.08,  1.12, -0.04, -0.08, -0.12]),\n",
       " 'y': array([0., 0., 0., 0., 0., 0.]),\n",
       " 'z': array([0., 0., 0., 0., 0., 0.]),\n",
       " 'h': array([0.048, 0.048, 0.048, 0.048, 0.048, 0.048]),\n",
       " 'p': array([0., 0., 0., 0., 0., 0.]),\n",
       " 'av': array([0., 0., 0., 0., 0., 0.]),\n",
       " 'au': array([0., 0., 0., 0., 0., 0.]),\n",
       " 'v': array([0., 0., 0., 0., 0., 0.]),\n",
       " 'm': array([0., 0., 0., 0., 0., 0.]),\n",
       " 'rho': array([0., 0., 0., 0., 0., 0.]),\n",
       " 'u': array([0., 0., 0., 0., 0., 0.]),\n",
       " 'aw': array([0., 0., 0., 0., 0., 0.]),\n",
       " 'w': array([0., 0., 0., 0., 0., 0.]),\n",
       " 'g2id': array([0, 1, 2, 3, 4, 5], dtype=uint32),\n",
       " 'exact': array([0., 0., 0., 0., 0., 0.]),\n",
       " 'stride_test': array([0., 0., 0., 0., 0., 0., 0., 0., 0., 0., 0., 0., 0., 0., 0., 0., 0.,\n",
       "        0.])}"
      ]
     },
     "execution_count": 116,
     "metadata": {},
     "output_type": "execute_result"
    }
   ],
   "source": [
    "g1pa.get_property_arrays()"
   ]
  },
  {
   "cell_type": "code",
   "execution_count": 113,
   "metadata": {},
   "outputs": [
    {
     "data": {
      "text/plain": [
       "{'tag': array([0, 0, 0, 0, 0, 0, 0, 0, 0, 0, 0, 0, 0, 0, 0, 0, 0, 0, 0, 0, 0, 0,\n",
       "        0, 0, 0], dtype=int32),\n",
       " 'pid': array([0, 0, 0, 0, 0, 0, 0, 0, 0, 0, 0, 0, 0, 0, 0, 0, 0, 0, 0, 0, 0, 0,\n",
       "        0, 0, 0], dtype=int32),\n",
       " 'gid': array([4294967295, 4294967295, 4294967295, 4294967295, 4294967295,\n",
       "        4294967295, 4294967295, 4294967295, 4294967295, 4294967295,\n",
       "        4294967295, 4294967295, 4294967295, 4294967295, 4294967295,\n",
       "        4294967295, 4294967295, 4294967295, 4294967295, 4294967295,\n",
       "        4294967295, 4294967295, 4294967295, 4294967295, 4294967295],\n",
       "       dtype=uint32),\n",
       " 'x': array([0.02, 0.06, 0.1 , 0.14, 0.18, 0.22, 0.26, 0.3 , 0.34, 0.38, 0.42,\n",
       "        0.46, 0.5 , 0.54, 0.58, 0.62, 0.66, 0.7 , 0.74, 0.78, 0.82, 0.86,\n",
       "        0.9 , 0.94, 0.98]),\n",
       " 'y': array([0., 0., 0., 0., 0., 0., 0., 0., 0., 0., 0., 0., 0., 0., 0., 0., 0.,\n",
       "        0., 0., 0., 0., 0., 0., 0., 0.]),\n",
       " 'z': array([0., 0., 0., 0., 0., 0., 0., 0., 0., 0., 0., 0., 0., 0., 0., 0., 0.,\n",
       "        0., 0., 0., 0., 0., 0., 0., 0.]),\n",
       " 'h': array([0.048, 0.048, 0.048, 0.048, 0.048, 0.048, 0.048, 0.048, 0.048,\n",
       "        0.048, 0.048, 0.048, 0.048, 0.048, 0.048, 0.048, 0.048, 0.048,\n",
       "        0.048, 0.048, 0.048, 0.048, 0.048, 0.048, 0.048]),\n",
       " 'm': array([0.04, 0.04, 0.04, 0.04, 0.04, 0.04, 0.04, 0.04, 0.04, 0.04, 0.04,\n",
       "        0.04, 0.04, 0.04, 0.04, 0.04, 0.04, 0.04, 0.04, 0.04, 0.04, 0.04,\n",
       "        0.04, 0.04, 0.04]),\n",
       " 'rho': array([1., 1., 1., 1., 1., 1., 1., 1., 1., 1., 1., 1., 1., 1., 1., 1., 1.,\n",
       "        1., 1., 1., 1., 1., 1., 1., 1.]),\n",
       " 'exact': array([0., 0., 0., 0., 0., 0., 0., 0., 0., 0., 0., 0., 0., 0., 0., 0., 0.,\n",
       "        0., 0., 0., 0., 0., 0., 0., 0.]),\n",
       " 'p': array([0., 0., 0., 0., 0., 0., 0., 0., 0., 0., 0., 0., 0., 0., 0., 0., 0.,\n",
       "        0., 0., 0., 0., 0., 0., 0., 0.]),\n",
       " 'av': array([0., 0., 0., 0., 0., 0., 0., 0., 0., 0., 0., 0., 0., 0., 0., 0., 0.,\n",
       "        0., 0., 0., 0., 0., 0., 0., 0.]),\n",
       " 'au': array([0., 0., 0., 0., 0., 0., 0., 0., 0., 0., 0., 0., 0., 0., 0., 0., 0.,\n",
       "        0., 0., 0., 0., 0., 0., 0., 0.]),\n",
       " 'v': array([0., 0., 0., 0., 0., 0., 0., 0., 0., 0., 0., 0., 0., 0., 0., 0., 0.,\n",
       "        0., 0., 0., 0., 0., 0., 0., 0.]),\n",
       " 'u': array([0., 0., 0., 0., 0., 0., 0., 0., 0., 0., 0., 0., 0., 0., 0., 0., 0.,\n",
       "        0., 0., 0., 0., 0., 0., 0., 0.]),\n",
       " 'aw': array([0., 0., 0., 0., 0., 0., 0., 0., 0., 0., 0., 0., 0., 0., 0., 0., 0.,\n",
       "        0., 0., 0., 0., 0., 0., 0., 0.]),\n",
       " 'w': array([0., 0., 0., 0., 0., 0., 0., 0., 0., 0., 0., 0., 0., 0., 0., 0., 0.,\n",
       "        0., 0., 0., 0., 0., 0., 0., 0.]),\n",
       " 'stride_test': array([0., 0., 0., 0., 0., 0., 0., 0., 0., 0., 0., 0., 0., 0., 0., 0., 0.,\n",
       "        0., 0., 0., 0., 0., 0., 0., 0., 0., 0., 0., 0., 0., 0., 0., 0., 0.,\n",
       "        0., 0., 0., 0., 0., 0., 0., 0., 0., 0., 0., 0., 0., 0., 0., 0., 0.,\n",
       "        0., 0., 0., 0., 0., 0., 0., 0., 0., 0., 0., 0., 0., 0., 0., 0., 0.,\n",
       "        0., 0., 0., 0., 0., 0., 0.])}"
      ]
     },
     "execution_count": 113,
     "metadata": {},
     "output_type": "execute_result"
    }
   ],
   "source": [
    "pa.get_property_arrays()"
   ]
  },
  {
   "cell_type": "code",
   "execution_count": 114,
   "metadata": {},
   "outputs": [
    {
     "data": {
      "text/plain": [
       "(array([0, 1, 2, 3, 4, 5], dtype=uint32),\n",
       " array([0, 1, 2, 3, 4, 5], dtype=uint32))"
      ]
     },
     "execution_count": 114,
     "metadata": {},
     "output_type": "execute_result"
    }
   ],
   "source": [
    "g1pa.gid, g1pa.g2id"
   ]
  },
  {
   "cell_type": "code",
   "execution_count": 95,
   "metadata": {},
   "outputs": [
    {
     "data": {
      "text/plain": [
       "dict_keys(['tag', 'pid', 'gid', 'x', 'y', 'z', 'h', 'm', 'rho', 'exact', 'p', 'av', 'au', 'v', 'u', 'aw', 'w'])"
      ]
     },
     "execution_count": 95,
     "metadata": {},
     "output_type": "execute_result"
    }
   ],
   "source": [
    "# pa.add_property('junk')\n",
    "pa.properties.keys()"
   ]
  },
  {
   "cell_type": "code",
   "execution_count": 96,
   "metadata": {},
   "outputs": [
    {
     "data": {
      "text/plain": [
       "dict_keys(['tag', 'pid', 'gid', 'x', 'y', 'z', 'h', 'g2id', 'p', 'av', 'au', 'v', 'm', 'rho', 'u', 'aw', 'w'])"
      ]
     },
     "execution_count": 96,
     "metadata": {},
     "output_type": "execute_result"
    }
   ],
   "source": [
    "g1pa.properties.keys()"
   ]
  },
  {
   "cell_type": "code",
   "execution_count": 99,
   "metadata": {},
   "outputs": [],
   "source": [
    "g1pa.add_property(**{'name': 'new_junk', 'type': 'unsigned int', \"data\": [0, 1, 2, 3, 4, 5]})"
   ]
  },
  {
   "cell_type": "code",
   "execution_count": 100,
   "metadata": {},
   "outputs": [
    {
     "data": {
      "text/plain": [
       "{'tag': array([0, 0, 0, 0, 0, 0], dtype=int32),\n",
       " 'pid': array([0, 0, 0, 0, 0, 0], dtype=int32),\n",
       " 'gid': array([0, 1, 2, 3, 4, 5], dtype=uint32),\n",
       " 'x': array([ 1.04,  1.08,  1.12, -0.04, -0.08, -0.12]),\n",
       " 'y': array([0., 0., 0., 0., 0., 0.]),\n",
       " 'z': array([0., 0., 0., 0., 0., 0.]),\n",
       " 'h': array([0.048, 0.048, 0.048, 0.048, 0.048, 0.048]),\n",
       " 'g2id': array([0., 1., 2., 3., 4., 5.]),\n",
       " 'p': array([0., 0., 0., 0., 0., 0.]),\n",
       " 'av': array([0., 0., 0., 0., 0., 0.]),\n",
       " 'au': array([0., 0., 0., 0., 0., 0.]),\n",
       " 'v': array([0., 0., 0., 0., 0., 0.]),\n",
       " 'm': array([0., 0., 0., 0., 0., 0.]),\n",
       " 'rho': array([0., 0., 0., 0., 0., 0.]),\n",
       " 'u': array([0., 0., 0., 0., 0., 0.]),\n",
       " 'aw': array([0., 0., 0., 0., 0., 0.]),\n",
       " 'w': array([0., 0., 0., 0., 0., 0.]),\n",
       " 'exact': array([0., 0., 0., 0., 0., 0.]),\n",
       " 'new_junk': array([0, 1, 2, 3, 4, 5], dtype=uint32)}"
      ]
     },
     "execution_count": 100,
     "metadata": {},
     "output_type": "execute_result"
    }
   ],
   "source": [
    "g1pa.get_property_arrays()"
   ]
  },
  {
   "cell_type": "code",
   "execution_count": null,
   "metadata": {},
   "outputs": [],
   "source": []
  }
 ],
 "metadata": {
  "kernelspec": {
   "display_name": "dev311",
   "language": "python",
   "name": "python3"
  },
  "language_info": {
   "codemirror_mode": {
    "name": "ipython",
    "version": 3
   },
   "file_extension": ".py",
   "mimetype": "text/x-python",
   "name": "python",
   "nbconvert_exporter": "python",
   "pygments_lexer": "ipython3",
   "version": "3.11.0"
  },
  "orig_nbformat": 4
 },
 "nbformat": 4,
 "nbformat_minor": 2
}
